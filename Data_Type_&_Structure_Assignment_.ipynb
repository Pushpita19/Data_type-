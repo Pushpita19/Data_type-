{
  "nbformat": 4,
  "nbformat_minor": 0,
  "metadata": {
    "colab": {
      "provenance": []
    },
    "kernelspec": {
      "name": "python3",
      "display_name": "Python 3"
    },
    "language_info": {
      "name": "python"
    }
  },
  "cells": [
    {
      "cell_type": "markdown",
      "source": [
        "#Theoretical Questions"
      ],
      "metadata": {
        "id": "79PD865Ruevq"
      }
    },
    {
      "cell_type": "markdown",
      "source": [
        "**Q.1 What are the data structure and why are they important?**\n",
        "- Ans. A data structure is a specialized format for organizing, managing and storing data efficiently.\n",
        "- It defines the relationship between data elements and provides methods for accessing and modifying data.\n",
        "- It also ensures better performance in computing operations.\n",
        "\n",
        "Data structure play a crucial role in today's world.\n",
        "- Efficiently organize data for quick access.\n",
        "- It improves the speed and stability of applications.\n",
        "- Efficient memory usuage.\n",
        "- It is used in real world application like cyber security, hospital, weather forecasting department etc.\n",
        "- It make code more structured, organized and reusuable."
      ],
      "metadata": {
        "id": "myDPsGMZuNWD"
      }
    },
    {
      "cell_type": "markdown",
      "source": [
        "**Q.2 Explain the difference between mutable and immutable data types with examples.**\n",
        "- Mutable data types are the data types which can be modified/edited.\n",
        "e.g; List, Dictionary, Sets.\n",
        "-Immutable data types are thhose that cannot be modified/changed after creation.\n",
        "e.g; Srings, tuples, boolean etc."
      ],
      "metadata": {
        "id": "_8luY8yWxXrH"
      }
    },
    {
      "cell_type": "markdown",
      "source": [
        "**Q.3 What are the main difference between lists and tuples in python?**\n",
        "- **List** is mutable in nature i.e; it can be modified after being created.\n",
        "- List is created using square brackets [].\n",
        "- It is slower due to mutability and  takes more memory.\n",
        "- It is used when the data needs to modified time to time.\n",
        "-**Tuple** is immutable in nature i.e; it cant be modified once created.\n",
        "- Tuple is created using parentheses ().\n",
        "- It is generally faster due in immuatability and takes less memory.\n",
        "-It is used when the data should remain constant. Example- PAN card no, Bank account number etc."
      ],
      "metadata": {
        "id": "jpGHn_-R_lSx"
      }
    },
    {
      "cell_type": "markdown",
      "source": [
        "**Q.4 Describe how dictionaries store data.**\n",
        "- Dictionaries in python store data as key-value pairs using hash table implementation. This allows for fast lookups, insertions and deletions with an average time complexity of O(1)."
      ],
      "metadata": {
        "id": "bsIvsW9RCWSF"
      }
    },
    {
      "cell_type": "markdown",
      "source": [
        "**Q.5 Why might you use a set instead of a list in python?**\n",
        "- Set is used instead of a list when there is a need of uniqueness in elements.\n",
        "- Sets provide optimized mathematical operations like union, intersection and difference.\n",
        "- Sets use less memory than lists as it contains unique value."
      ],
      "metadata": {
        "id": "xzoDe_62DgyT"
      }
    },
    {
      "cell_type": "markdown",
      "source": [
        "**Q.6 What is a string in Python and how is it different from a list?**\n",
        "- String is a sequence of characters enclosed in quotes '', \" \"..\n",
        "- It is immutable but replacement of substring is possible.\n",
        "- It also supports indexing as well as slicing.\n",
        "- *Difference between Strings and lists:-*\n",
        "- List is a collection of elements, it may contain number, strings, objects etc while string is sequence of characters.\n",
        "- List is mutable and string is immutable.\n",
        "- List can store multiple data type like float, interger, complex no. etc. but string can only store character."
      ],
      "metadata": {
        "id": "TKxJbOF1Emj2"
      }
    },
    {
      "cell_type": "markdown",
      "source": [
        "**Q.7 How do tuples ensure data integrity in python?**\n",
        "- Tuples ensure data integrity by its faetures like immutability, hashability.\n",
        "- Tuples are safe to use in multi-threaded program.\n",
        "- They are used in different real-life situations in which data must remain constant like aeronautical data, weather forecasting data, Aadhar card no. etc."
      ],
      "metadata": {
        "id": "d6pzSB34Ry7R"
      }
    },
    {
      "cell_type": "markdown",
      "source": [
        "**Q.8 What is hashtable, and how does it related to dictionaries in python?**\n",
        "- Hastable is data structure that stores key-value pairs.\n",
        "- It uses hash functions to compute indices.\n",
        "- Keys must be hashable i.e; immutable types like strings, numbers, tuples etc.\n",
        "\n",
        "\n",
        "- Python dictionaries use a hash table for fast lookups.\n",
        "- The keys are stored along with their values for quick access.\n",
        "- If a key's hash changes, correct data value is impossible to retrieve."
      ],
      "metadata": {
        "id": "lrPx58t7TNOF"
      }
    },
    {
      "cell_type": "markdown",
      "source": [
        "**Q.9 Can list contain different data types in Python?**\n",
        "- Yes, List can contain different data types like integer, floats, boolean, strings, complex no. etc.\n",
        "- Lists are heterogenous."
      ],
      "metadata": {
        "id": "3muHmTnfTW7z"
      }
    },
    {
      "cell_type": "markdown",
      "source": [
        "**Q.10 Explain why strings are immutable in python?**\n",
        "- Strings are immutable in python because they cant be changed/ modified after being created.\n",
        "- Python stores the same string value at a single memory location.\n",
        "- Less memory usuage.\n",
        "- Strings ensures security of data as it prevents unintended modifications.\n"
      ],
      "metadata": {
        "id": "RwJ_gMUVT1pS"
      }
    },
    {
      "cell_type": "markdown",
      "source": [
        "**Q.11 What advantages do dictionaries offer over lists for ceratin tasks?**\n",
        "- For ceratin tasks , dictionaries provide more advantages than lists such as-\n",
        "- Dictionaries provide O(1) look up using keys. Dictionaries are faster than lists.\n",
        "- It allows more flexible and meaningful dtaa retrieval.\n",
        "- Dictionary ensure uniqueness of data and can be easily updated."
      ],
      "metadata": {
        "id": "FW3DUmmSU62G"
      }
    },
    {
      "cell_type": "markdown",
      "source": [
        "**Q.12 Describe a scenario where using a tuple whould be preferable over a list.**\n",
        "- A tuple is preferable over a list in the situation where the data should remain constant for security and safety purposes.\n",
        "- Example- Bank account number, any modification in that may lead to problem."
      ],
      "metadata": {
        "id": "-5i58dwoWxFG"
      }
    },
    {
      "cell_type": "markdown",
      "source": [
        "**Q.13 How do sets handles duplicate values in Python?**\n",
        "- Sets automatically remove the duplicate elements.\n",
        "- Set contain only unique elements and it is great for filtering out rebundant data efficiency.\n"
      ],
      "metadata": {
        "id": "SQNFlvhwXf0z"
      }
    },
    {
      "cell_type": "markdown",
      "source": [
        "**Q.14 How does the \"in\" keywords work differently for lists and dictionaries?**\n",
        "- In list, \"in\" is used for checking if the element is present or not.\n",
        "- In dictionaries, \"in\" is used for checking the keys (not values). For checking values , \".values()\" is used."
      ],
      "metadata": {
        "id": "4gXwSePZYKc4"
      }
    },
    {
      "cell_type": "markdown",
      "source": [
        "**Q.15 Can you modify the elements of a tuple? Explain why or why not.**\n",
        "- The elements of a tuple cannot be modfied, as tuple in immutable.\n",
        "- But, if there is a mutable element like list is present inside a tuple that can be modified."
      ],
      "metadata": {
        "id": "I54VyD4AZaBr"
      }
    },
    {
      "cell_type": "markdown",
      "source": [
        "**Q.16 What is a nested dictionary,and give an example of its use case?**\n",
        "- A nested dictionary in Python is a dictionary inside another dictionary. It allow to organize data hierarchically which makes it more suitable for representing complex data structures.\n"
      ],
      "metadata": {
        "id": "waEDDJ64aN48"
      }
    },
    {
      "cell_type": "code",
      "source": [
        "#Example of nested dictionary\n",
        "#A hospitable wants to store details of its doctors with their department, Experience, emergency contact no. and salary.\n",
        "\n",
        "\n",
        "Doctors = {\n",
        "    \"D101\": {\n",
        "        \"name\": \"Dr. Rani\",\n",
        "        \"department\": \"Cardiology\",\n",
        "        \"experience\": \"5 years\",\n",
        "        \"emergency_contact\": 232340,\n",
        "        \"salary\": 50000 },\n",
        "\n",
        "    \"D102\" : {\n",
        "        \"name\": \"Dr. Shiya\",\n",
        "        \"department\": \"Gynaecology\",\n",
        "        \"experience\": \"7 years\",\n",
        "        \"emergency_contact\": 232240,\n",
        "        \"salary\": 70000 },\n",
        "\n",
        "    \"D103\" : {\n",
        "        \"name\": \"Dr. Reeta\",\n",
        "        \"department\": \"Pediatrics\",\n",
        "        \"experience\": \"5 years\",\n",
        "        \"emergency_contact\": 222240,\n",
        "        \"salary\": 55000 },\n",
        "    }\n",
        "print(Doctors[\"D103\"])\n",
        "\n",
        "\n",
        "\n",
        "\n"
      ],
      "metadata": {
        "colab": {
          "base_uri": "https://localhost:8080/"
        },
        "id": "um5fbY_ar6UZ",
        "outputId": "31eea197-6d8f-41db-9bc3-05daf4947634"
      },
      "execution_count": null,
      "outputs": [
        {
          "output_type": "stream",
          "name": "stdout",
          "text": [
            "{'name': 'Dr. Reeta', 'department': 'Pediatrics', 'experience': '5 years', 'emergency_contact': 222240, 'salary': 55000}\n"
          ]
        }
      ]
    },
    {
      "cell_type": "markdown",
      "source": [
        "**Q.17 Describe the time complexity of accessing elements in a dictionary.**\n",
        "\n",
        "- Python dictionary use hash tables internally and this allows for efficient data retrieval.\n",
        "- In general, the access time is alomst instant i.e; O(1).\n",
        "- But when the hash collision occur i.e; multiple key mapping to the same index; the dictionary needs rehashing. In such case, it takes time leading to O(n) complexity. It is rare."
      ],
      "metadata": {
        "id": "fLlTX1-naZPq"
      }
    },
    {
      "cell_type": "markdown",
      "source": [
        "**Q.18 In what situations are lists preferred over dictionaries?**\n",
        "- In the following situations,lists are preferred over dictionaries-\n",
        "- When the order of elements should be maintained.\n",
        "- Lists are used in which duplicate elemtents are needed.\n",
        "- Lists are used for small datasets.\n",
        "- Lists are faster than dictionaries.\n"
      ],
      "metadata": {
        "id": "zr2axaihaipv"
      }
    },
    {
      "cell_type": "markdown",
      "source": [
        "**Q.19 Why are dictionaries considered unordered, and how does that affect data retrieval?**\n",
        "- Dictionaries are considered unordered because they do not maintain the insertion order of key-value pairs (before Python 3.7).\n",
        "- From Python 3.7, dictionaries maintain insertion order, but they do not support direct indexing like list.\n",
        "- In dictionary, key is used to access the value (data).\n",
        "- Iterating over a dictionary preserves the insertion order but after deleting and re-adding an element, its position changes.\n",
        "- Sorting in dictionary is done manually.\n"
      ],
      "metadata": {
        "id": "aUVaOhJdfyHm"
      }
    },
    {
      "cell_type": "markdown",
      "source": [
        "**Q.20 Explain the difference between a list and a dictionary in terms of data retrieval**.\n",
        "- In list,by indexing like (list[1]) data retrieval is possible.\n",
        "- In dictionary, keys like (dict[\"key\"]) are used for retrieval.\n",
        "- List maintains order (sequence based) and dictionaries maintain insertion order, items are retrieved in the order they were added."
      ],
      "metadata": {
        "id": "hnTtY6TpgXY-"
      }
    },
    {
      "cell_type": "markdown",
      "source": [
        "#Practical Questions"
      ],
      "metadata": {
        "id": "r2ROerFnuTmk"
      }
    },
    {
      "cell_type": "markdown",
      "source": [
        "**Q.1 Write a code to create a string with your name and print it.**"
      ],
      "metadata": {
        "id": "4qUX7TgnwMfm"
      }
    },
    {
      "cell_type": "code",
      "source": [
        "a = \"Pushpita\"\n",
        "type(a)"
      ],
      "metadata": {
        "colab": {
          "base_uri": "https://localhost:8080/"
        },
        "id": "BPMjkWsowWQn",
        "outputId": "a247fb27-4427-4f6d-b6ae-fda48064921f"
      },
      "execution_count": null,
      "outputs": [
        {
          "output_type": "execute_result",
          "data": {
            "text/plain": [
              "str"
            ]
          },
          "metadata": {},
          "execution_count": 5
        }
      ]
    },
    {
      "cell_type": "code",
      "source": [
        "print(a)"
      ],
      "metadata": {
        "colab": {
          "base_uri": "https://localhost:8080/"
        },
        "id": "bBXL36VbwrEo",
        "outputId": "6fd22fe5-765b-46ea-fbbe-4db8097f4382"
      },
      "execution_count": null,
      "outputs": [
        {
          "output_type": "stream",
          "name": "stdout",
          "text": [
            "Pushpita\n"
          ]
        }
      ]
    },
    {
      "cell_type": "markdown",
      "source": [
        "**Q.2 Write a code to find the length of the string \"Hello World.\"**"
      ],
      "metadata": {
        "id": "W_-okL_Swvql"
      }
    },
    {
      "cell_type": "code",
      "source": [
        "a = \"Hello World\"\n",
        "len(a)"
      ],
      "metadata": {
        "colab": {
          "base_uri": "https://localhost:8080/"
        },
        "id": "o1ODlZasw66E",
        "outputId": "45d8783d-7ec7-4c44-8cf0-5d43fea49f1b"
      },
      "execution_count": null,
      "outputs": [
        {
          "output_type": "execute_result",
          "data": {
            "text/plain": [
              "11"
            ]
          },
          "metadata": {},
          "execution_count": 8
        }
      ]
    },
    {
      "cell_type": "markdown",
      "source": [
        "**Q.3 Write a code to slice the first 3 characters from the string \"Python Programming\".**"
      ],
      "metadata": {
        "id": "FcvSLz1Cz2V1"
      }
    },
    {
      "cell_type": "code",
      "source": [
        "a = \"Python Programming\"\n",
        "sliced_text = a[:3]\n",
        "print(sliced_text)"
      ],
      "metadata": {
        "colab": {
          "base_uri": "https://localhost:8080/"
        },
        "id": "lAyhL_Y20B3z",
        "outputId": "2c4c7396-400b-454b-98dd-4ad4c67538ee"
      },
      "execution_count": null,
      "outputs": [
        {
          "output_type": "stream",
          "name": "stdout",
          "text": [
            "Pyt\n"
          ]
        }
      ]
    },
    {
      "cell_type": "markdown",
      "source": [
        "**Q.4 Write a code to convert the string \"hello\" to uppercase.**"
      ],
      "metadata": {
        "id": "lq54C3Bg0dr0"
      }
    },
    {
      "cell_type": "code",
      "source": [
        "a = \"hello\"\n",
        "uppercase_text = a.upper()\n",
        "print(uppercase_text)"
      ],
      "metadata": {
        "colab": {
          "base_uri": "https://localhost:8080/"
        },
        "id": "Rp29Srup0kbi",
        "outputId": "d6cdc804-5306-4795-9000-07ced2bf6c17"
      },
      "execution_count": null,
      "outputs": [
        {
          "output_type": "stream",
          "name": "stdout",
          "text": [
            "HELLO\n"
          ]
        }
      ]
    },
    {
      "cell_type": "markdown",
      "source": [
        "**Q.5 Write a code to replace the word \"apple\" with \"orange\" in the sring \"I like apple\".**"
      ],
      "metadata": {
        "id": "HeIy_OI_0-Qe"
      }
    },
    {
      "cell_type": "code",
      "source": [
        "a = \"I like apple.\"\n",
        "b = a.replace(\"apple\", \"orange\")\n",
        "print(b)"
      ],
      "metadata": {
        "colab": {
          "base_uri": "https://localhost:8080/"
        },
        "id": "QZpzwTO11Q_4",
        "outputId": "d7f587fd-cab7-4b48-fdd3-bf91063d7b57"
      },
      "execution_count": null,
      "outputs": [
        {
          "output_type": "stream",
          "name": "stdout",
          "text": [
            "I like orange.\n"
          ]
        }
      ]
    },
    {
      "cell_type": "markdown",
      "source": [
        "**Q.6 Write a code to create a list with numbers 1 to 5 and print it.**"
      ],
      "metadata": {
        "id": "fm5x0vTD1j2t"
      }
    },
    {
      "cell_type": "code",
      "source": [
        "a = list(range(1,6))\n",
        "print(a)"
      ],
      "metadata": {
        "colab": {
          "base_uri": "https://localhost:8080/"
        },
        "id": "Zguo7p5a1s-l",
        "outputId": "5466dff8-1a06-45d4-cf8e-367f4e9d65e9"
      },
      "execution_count": null,
      "outputs": [
        {
          "output_type": "stream",
          "name": "stdout",
          "text": [
            "[1, 2, 3, 4, 5]\n"
          ]
        }
      ]
    },
    {
      "cell_type": "markdown",
      "source": [
        "**Q.7 Write a code to append the number 10 to the list [1,2,3,4].**"
      ],
      "metadata": {
        "id": "mYLMwMDR2Dtf"
      }
    },
    {
      "cell_type": "code",
      "source": [
        "a = [1,2,3,4]\n",
        "a.append(10)\n",
        "a"
      ],
      "metadata": {
        "colab": {
          "base_uri": "https://localhost:8080/"
        },
        "id": "EdZOaVOT2Q3d",
        "outputId": "71d93baf-51c9-43bb-e0ec-b66e35316341"
      },
      "execution_count": null,
      "outputs": [
        {
          "output_type": "execute_result",
          "data": {
            "text/plain": [
              "[1, 2, 3, 4, 10]"
            ]
          },
          "metadata": {},
          "execution_count": 18
        }
      ]
    },
    {
      "cell_type": "markdown",
      "source": [
        "**Q.8 Write a code to remove the number 3 from the list [1,2,3,4,5].**"
      ],
      "metadata": {
        "id": "M-YyFeAV2zbt"
      }
    },
    {
      "cell_type": "code",
      "source": [
        "a = [1,2,3,4,5]\n",
        "a.remove(3)\n",
        "a"
      ],
      "metadata": {
        "colab": {
          "base_uri": "https://localhost:8080/"
        },
        "id": "B142H5-B29S6",
        "outputId": "5090b430-b573-4341-ffc7-231773596af7"
      },
      "execution_count": null,
      "outputs": [
        {
          "output_type": "execute_result",
          "data": {
            "text/plain": [
              "[1, 2, 4, 5]"
            ]
          },
          "metadata": {},
          "execution_count": 19
        }
      ]
    },
    {
      "cell_type": "markdown",
      "source": [
        "**Q.9 Write a code to access the second element in the list ['a','b','c','d'].**"
      ],
      "metadata": {
        "id": "5JZfTvxm3ENn"
      }
    },
    {
      "cell_type": "code",
      "source": [
        "lst = ['a', 'b', 'c','d']\n",
        "second_element = lst[1]\n",
        "print(second_element)"
      ],
      "metadata": {
        "colab": {
          "base_uri": "https://localhost:8080/"
        },
        "id": "VUrb8iE33TNU",
        "outputId": "a9e3ff68-ea25-42c4-ec23-4b72e4fc8568"
      },
      "execution_count": null,
      "outputs": [
        {
          "output_type": "stream",
          "name": "stdout",
          "text": [
            "b\n"
          ]
        }
      ]
    },
    {
      "cell_type": "markdown",
      "source": [
        "**Q.10 Write a code to reverse the list [10,20,30,40,50].**"
      ],
      "metadata": {
        "id": "UtaW8aAp3vLY"
      }
    },
    {
      "cell_type": "code",
      "source": [
        "num = [10,20,30,40,50]\n",
        "num.reverse()\n",
        "print(num)"
      ],
      "metadata": {
        "colab": {
          "base_uri": "https://localhost:8080/"
        },
        "id": "h7qzuZkp36zF",
        "outputId": "9bfeba09-95a7-4c44-c30e-db6675197f9d"
      },
      "execution_count": null,
      "outputs": [
        {
          "output_type": "stream",
          "name": "stdout",
          "text": [
            "[50, 40, 30, 20, 10]\n"
          ]
        }
      ]
    },
    {
      "cell_type": "markdown",
      "source": [
        "**Q.11 Write a code to create to tuple with the elements 100,200, 300 and print it.**"
      ],
      "metadata": {
        "id": "t6T46JQjNfUu"
      }
    },
    {
      "cell_type": "code",
      "source": [
        "a = (100,200,300)\n",
        "print(a)"
      ],
      "metadata": {
        "colab": {
          "base_uri": "https://localhost:8080/"
        },
        "id": "eimQQ6Q3NxjY",
        "outputId": "968e4295-6084-40c5-fd77-dc9a7b9fa705"
      },
      "execution_count": null,
      "outputs": [
        {
          "output_type": "stream",
          "name": "stdout",
          "text": [
            "(100, 200, 300)\n"
          ]
        }
      ]
    },
    {
      "cell_type": "markdown",
      "source": [
        "**Q.12 Write a code to access the second-to-last element of the tuple ('red', 'green', 'blue', 'yellow').**"
      ],
      "metadata": {
        "id": "5J5W-qW2ODww"
      }
    },
    {
      "cell_type": "code",
      "source": [
        "c = ('red', 'green','blue','yellow')\n",
        "new_tuple = c[-2]\n",
        "print(new_tuple)"
      ],
      "metadata": {
        "colab": {
          "base_uri": "https://localhost:8080/"
        },
        "id": "k8b-2tgwOgvN",
        "outputId": "bd02968f-20c5-4147-82e5-befd4f4c07e0"
      },
      "execution_count": null,
      "outputs": [
        {
          "output_type": "stream",
          "name": "stdout",
          "text": [
            "blue\n"
          ]
        }
      ]
    },
    {
      "cell_type": "markdown",
      "source": [
        "**Q.13 Write a code to find the minimum number in the tuple (10,20,5,15).**"
      ],
      "metadata": {
        "id": "HfY24ILGSz0Z"
      }
    },
    {
      "cell_type": "code",
      "source": [
        "a = (10,20,5,15)\n",
        "min_number = min(a)\n",
        "print(min_number)"
      ],
      "metadata": {
        "colab": {
          "base_uri": "https://localhost:8080/"
        },
        "id": "IvAjQaNSTaJ0",
        "outputId": "4730c0f4-4deb-466d-a65d-92bd838b2760"
      },
      "execution_count": null,
      "outputs": [
        {
          "output_type": "stream",
          "name": "stdout",
          "text": [
            "5\n"
          ]
        }
      ]
    },
    {
      "cell_type": "markdown",
      "source": [
        "**Q.14 Write a code to find the index of the element \"cat\" in the tuple ('dog', 'cat', 'rabbit').**"
      ],
      "metadata": {
        "id": "Ood0WHggTk4f"
      }
    },
    {
      "cell_type": "code",
      "source": [
        "b = ('dog', 'cat', 'rabbit')\n",
        "index_of_cat = b.index('cat')\n",
        "print(index_of_cat)"
      ],
      "metadata": {
        "colab": {
          "base_uri": "https://localhost:8080/"
        },
        "id": "GgNSxgoqT2mF",
        "outputId": "fd7987a0-88da-4dc4-c9fd-c1729a11e047"
      },
      "execution_count": null,
      "outputs": [
        {
          "output_type": "stream",
          "name": "stdout",
          "text": [
            "1\n"
          ]
        }
      ]
    },
    {
      "cell_type": "markdown",
      "source": [
        "**Q.15 Write a code to create a tuple containing three different fruits and check if \"kiwi\" is in it.**"
      ],
      "metadata": {
        "id": "OCn9UmhMUFUT"
      }
    },
    {
      "cell_type": "code",
      "source": [
        "Fruit_list = (\"Apple\", \"Orange\", \"Kiwi\")\n",
        "if \"Kiwi\" in Fruit_list:\n",
        "    print(\"Kiwi is in the tuple\")\n",
        "else:\n",
        "    print(\"Kiwi is not in the tuple\")"
      ],
      "metadata": {
        "colab": {
          "base_uri": "https://localhost:8080/"
        },
        "id": "EMCY1aiqUVqN",
        "outputId": "fefb2bd3-c503-4a3f-dd1c-6a223311f0da"
      },
      "execution_count": null,
      "outputs": [
        {
          "output_type": "stream",
          "name": "stdout",
          "text": [
            "Kiwi is in the tuple\n"
          ]
        }
      ]
    },
    {
      "cell_type": "code",
      "source": [
        "Fruit_list = (\"Apple\", \"Orange\", \"Banana\")\n",
        "if \"Kiwi\" in Fruit_list:\n",
        "    print(\"Kiwi is in the tuple\")\n",
        "else:\n",
        "    print(\"Kiwi is not in the tuple\")"
      ],
      "metadata": {
        "colab": {
          "base_uri": "https://localhost:8080/"
        },
        "id": "Aa3TEQpfUpMG",
        "outputId": "060a88b8-28a5-406f-93fe-631d7e0bac40"
      },
      "execution_count": null,
      "outputs": [
        {
          "output_type": "stream",
          "name": "stdout",
          "text": [
            "Kiwi is not in the tuple\n"
          ]
        }
      ]
    },
    {
      "cell_type": "markdown",
      "source": [
        "**Q.16 Write a code to create a set with the elements 'a', 'b', 'c' and print it.**"
      ],
      "metadata": {
        "id": "gbYee32aVTyc"
      }
    },
    {
      "cell_type": "code",
      "source": [
        "s = {'a', 'b', 'c'}\n",
        "print(s)"
      ],
      "metadata": {
        "colab": {
          "base_uri": "https://localhost:8080/"
        },
        "id": "NDl-OSYMWtj5",
        "outputId": "fbb991ae-12d1-4521-8d43-08426c733641"
      },
      "execution_count": null,
      "outputs": [
        {
          "output_type": "stream",
          "name": "stdout",
          "text": [
            "{'b', 'a', 'c'}\n"
          ]
        }
      ]
    },
    {
      "cell_type": "markdown",
      "source": [
        "**Q.17 Write a code to clear all elements from the set {1,2,3,4,5}.**"
      ],
      "metadata": {
        "id": "xHM5QbynbsFs"
      }
    },
    {
      "cell_type": "code",
      "source": [
        "Given_set = {1,2,3,4,5}\n",
        "Given_set.clear()\n",
        "print(Given_set)"
      ],
      "metadata": {
        "colab": {
          "base_uri": "https://localhost:8080/"
        },
        "id": "yrdMsjlMcKDT",
        "outputId": "4c427dfd-f876-48b0-b950-cee718861c55"
      },
      "execution_count": null,
      "outputs": [
        {
          "output_type": "stream",
          "name": "stdout",
          "text": [
            "set()\n"
          ]
        }
      ]
    },
    {
      "cell_type": "markdown",
      "source": [
        "**Q.18 Write a code to remove the element 4 from the set {1,2,3,4}.**"
      ],
      "metadata": {
        "id": "zTh3duUvcj85"
      }
    },
    {
      "cell_type": "code",
      "source": [
        "set = {1,2,3,4}\n",
        "set.remove(4)\n",
        "print(set)"
      ],
      "metadata": {
        "colab": {
          "base_uri": "https://localhost:8080/"
        },
        "id": "bNcMYfDrcukG",
        "outputId": "69e78fe5-6547-4c9c-ba9a-55295c797a31"
      },
      "execution_count": null,
      "outputs": [
        {
          "output_type": "stream",
          "name": "stdout",
          "text": [
            "{1, 2, 3}\n"
          ]
        }
      ]
    },
    {
      "cell_type": "markdown",
      "source": [
        "**Q.19 Write a code to find the union of two sets {1,2,3} and {3,4,5}.**"
      ],
      "metadata": {
        "id": "Fw2qVRVPdAst"
      }
    },
    {
      "cell_type": "code",
      "source": [
        "set_a = {1,2,3}\n",
        "set_b = {3,4,5}\n",
        "union_set = set_a.union(set_b)\n",
        "print(union_set)"
      ],
      "metadata": {
        "colab": {
          "base_uri": "https://localhost:8080/"
        },
        "id": "pqadms3UdKkz",
        "outputId": "f0d5d988-6f16-4582-b461-76b32d5ddece"
      },
      "execution_count": null,
      "outputs": [
        {
          "output_type": "stream",
          "name": "stdout",
          "text": [
            "{1, 2, 3, 4, 5}\n"
          ]
        }
      ]
    },
    {
      "cell_type": "markdown",
      "source": [
        "**Q.20 Write a code to find the intersection of two sets {1,2,3} and {2,3,4}.**"
      ],
      "metadata": {
        "id": "z43ucnjads-W"
      }
    },
    {
      "cell_type": "code",
      "source": [
        "set_r = {1,2,3}\n",
        "set_s = {2,3,4}\n",
        "intersection_set = set_r.intersection(set_s)\n",
        "print(intersection_set)"
      ],
      "metadata": {
        "colab": {
          "base_uri": "https://localhost:8080/"
        },
        "id": "ppja0Ye4dkjD",
        "outputId": "b128f105-4812-40a2-b675-e1420dc51a04"
      },
      "execution_count": null,
      "outputs": [
        {
          "output_type": "stream",
          "name": "stdout",
          "text": [
            "{2, 3}\n"
          ]
        }
      ]
    },
    {
      "cell_type": "markdown",
      "source": [
        "**Q.21 Write a code to create a dictionary with the keys \"name\", \"age\", and \"city\" and print it.**"
      ],
      "metadata": {
        "id": "Sj7dlHEPd5IT"
      }
    },
    {
      "cell_type": "code",
      "source": [
        "Details = {\n",
        "    \"Name\": \"Pushpita\",\n",
        "    \"Age\": 29,\n",
        "    \"City\": \"Tripura\"}\n",
        "\n",
        "print(Details)\n"
      ],
      "metadata": {
        "colab": {
          "base_uri": "https://localhost:8080/"
        },
        "id": "PGajPCfSeGX6",
        "outputId": "10362d32-7440-4b50-f1d9-73810eda32fe"
      },
      "execution_count": null,
      "outputs": [
        {
          "output_type": "stream",
          "name": "stdout",
          "text": [
            "{'Name': 'Pushpita', 'Age': 29, 'City': 'Tripura'}\n"
          ]
        }
      ]
    },
    {
      "cell_type": "markdown",
      "source": [
        "**Q.22 Write a code to add a new key- value pair \"country\" : \"USA\" to the dictionary {'name': 'John', 'age': 25}.**"
      ],
      "metadata": {
        "id": "L_b15r5per8I"
      }
    },
    {
      "cell_type": "code",
      "source": [
        "Details = {\"name\" : 'John', 'age': 25}\n",
        "Details[\"country\"] = \"USA\"\n",
        "print(Details)"
      ],
      "metadata": {
        "colab": {
          "base_uri": "https://localhost:8080/"
        },
        "id": "QxduDuiKfK0e",
        "outputId": "70e58e7f-0c3e-45ca-cb61-9fa8a1a01c4f"
      },
      "execution_count": null,
      "outputs": [
        {
          "output_type": "stream",
          "name": "stdout",
          "text": [
            "{'name': 'John', 'age': 25, 'country': 'USA'}\n"
          ]
        }
      ]
    },
    {
      "cell_type": "markdown",
      "source": [
        "**Q.23 Write a code to access the value associated with they key \"name\" in the dictionary {'name': 'Alice', 'age': 30}.**"
      ],
      "metadata": {
        "id": "4gooREv6fey1"
      }
    },
    {
      "cell_type": "code",
      "source": [
        "person = {'name': 'Alice', 'age': 30}\n",
        "name = person['name']\n",
        "print(name)"
      ],
      "metadata": {
        "colab": {
          "base_uri": "https://localhost:8080/"
        },
        "id": "rDfJBafxf06N",
        "outputId": "19a13de3-9953-4a17-d828-e03c28136695"
      },
      "execution_count": null,
      "outputs": [
        {
          "output_type": "stream",
          "name": "stdout",
          "text": [
            "Alice\n"
          ]
        }
      ]
    },
    {
      "cell_type": "markdown",
      "source": [
        "**Q.24 Write a code to remove the key \"age\" from the dictionary {'name': 'Bob', 'age':22, 'city' : 'New York'}.**"
      ],
      "metadata": {
        "id": "E15qODVwf-aw"
      }
    },
    {
      "cell_type": "code",
      "source": [
        "person = {'name': 'Bob', 'age': 22, 'city': 'New York'}\n",
        "del person['age']\n",
        "print(person)"
      ],
      "metadata": {
        "colab": {
          "base_uri": "https://localhost:8080/"
        },
        "id": "7JOWJ9rmgfoW",
        "outputId": "8c8eac1f-e1e5-4cb2-971d-ead39113f4f7"
      },
      "execution_count": null,
      "outputs": [
        {
          "output_type": "stream",
          "name": "stdout",
          "text": [
            "{'name': 'Bob', 'city': 'New York'}\n"
          ]
        }
      ]
    },
    {
      "cell_type": "markdown",
      "source": [
        "**Q.25 Write a code to check if they key \"city\" exists in the dictionary {\"name\" : \"Alice\", \"city\": \"Paris\"}.**"
      ],
      "metadata": {
        "id": "RbCinpl7gl8u"
      }
    },
    {
      "cell_type": "code",
      "source": [
        "detail = { \"name\": \"Alice\", \"city\": \"Paris\"}\n",
        "if \"city\" in detail:\n",
        "  print(\"The key 'city' exists in the dictionary.\")\n",
        "else:\n",
        "  print(\"The key 'city' does not exist in the dictionary.\")"
      ],
      "metadata": {
        "colab": {
          "base_uri": "https://localhost:8080/"
        },
        "id": "3M0syRerg9NW",
        "outputId": "c27db36e-4cf7-4967-949d-24850cadea74"
      },
      "execution_count": null,
      "outputs": [
        {
          "output_type": "stream",
          "name": "stdout",
          "text": [
            "The key 'city' exists in the dictionary.\n"
          ]
        }
      ]
    },
    {
      "cell_type": "markdown",
      "source": [
        "**Q.26 Write a code to create a list, a tuple and a dictionary and print them all.**"
      ],
      "metadata": {
        "id": "LoJUW3MVhRgi"
      }
    },
    {
      "cell_type": "code",
      "source": [
        "my_list = [\"Radha\", \"Krishna\"]\n",
        "my_tuple = (\"Ram\",\"Sita\", \"Laxman\", \"Hanuman\")\n",
        "my_dict = {\"Prabhu\": \"Ram\", \"Mata\": \"Sita\", \"city\": \"Ayoddhya\"}\n",
        "print(\"List:\", my_list)\n",
        "print(\"Tuple:\", my_tuple)\n",
        "print(\"Dictionary:\", my_dict)"
      ],
      "metadata": {
        "colab": {
          "base_uri": "https://localhost:8080/"
        },
        "id": "9KFPm4elhd4M",
        "outputId": "5df5750b-648e-4b96-a534-1c2b604e76ca"
      },
      "execution_count": null,
      "outputs": [
        {
          "output_type": "stream",
          "name": "stdout",
          "text": [
            "List: ['Radha', 'Krishna']\n",
            "Tuple: ('Ram', 'Sita', 'Laxman', 'Hanuman')\n",
            "Dictionary: {'Prabhu': 'Ram', 'Mata': 'Sita', 'city': 'Ayoddhya'}\n"
          ]
        }
      ]
    },
    {
      "cell_type": "markdown",
      "source": [
        "**Q.27 Write a code to create a list of 5 random numbers between 1 to 100, sort it in ascenind order, and print the result.**"
      ],
      "metadata": {
        "id": "JIk_g4oFig_f"
      }
    },
    {
      "cell_type": "code",
      "source": [
        "my_num = [12,88,17,34,55]\n",
        "my_num.sort()\n",
        "print(my_num)"
      ],
      "metadata": {
        "colab": {
          "base_uri": "https://localhost:8080/"
        },
        "id": "XUtPHM_9i4rG",
        "outputId": "50f3852d-e805-404d-cf06-1a13259a1274"
      },
      "execution_count": null,
      "outputs": [
        {
          "output_type": "stream",
          "name": "stdout",
          "text": [
            "[12, 17, 34, 55, 88]\n"
          ]
        }
      ]
    },
    {
      "cell_type": "markdown",
      "source": [
        "**Q.28 Write a code to create a list with strings and print the elements at the third index.**"
      ],
      "metadata": {
        "id": "wxHjD31KjNzg"
      }
    },
    {
      "cell_type": "code",
      "source": [
        "my_list = [\"Krishna\", \"Ram\", \"Sita\", \"Shiva\", \"Hanuman\"]\n",
        "third_element = my_list[3]\n",
        "print(third_element)"
      ],
      "metadata": {
        "colab": {
          "base_uri": "https://localhost:8080/"
        },
        "id": "8Fh2WP_kjj2E",
        "outputId": "028e3476-1d99-400d-9bd8-9a98871bc8e5"
      },
      "execution_count": null,
      "outputs": [
        {
          "output_type": "stream",
          "name": "stdout",
          "text": [
            "Shiva\n"
          ]
        }
      ]
    },
    {
      "cell_type": "markdown",
      "source": [
        "**Q.29 Write a code to combine two dictionaries into one and print the result.**"
      ],
      "metadata": {
        "id": "VwHwmiC3j6An"
      }
    },
    {
      "cell_type": "code",
      "source": [
        "dict1= {\"name\": \"Pushpita\", \"age\": 29}\n",
        "dict2 = {\"state\": \"Tripura\", \"country\": \"India\"}\n",
        "dict1.update(dict2)\n",
        "print(dict1)"
      ],
      "metadata": {
        "colab": {
          "base_uri": "https://localhost:8080/"
        },
        "id": "u7PmM8dFkW90",
        "outputId": "499fa6c9-2b28-48aa-bfe3-064ecf216c1a"
      },
      "execution_count": null,
      "outputs": [
        {
          "output_type": "stream",
          "name": "stdout",
          "text": [
            "{'name': 'Pushpita', 'age': 29, 'state': 'Tripura', 'country': 'India'}\n"
          ]
        }
      ]
    },
    {
      "cell_type": "markdown",
      "source": [
        "**Q.30 Write a code to convert a list of strings into a set.**"
      ],
      "metadata": {
        "id": "kYnei0EulPYP"
      }
    },
    {
      "cell_type": "code",
      "source": [
        "s_list = [\"beauty\", \"honesty\", \"charity\", \"beauty\", \"honesty\"]\n",
        "s_set = set(s_list)\n",
        "\n",
        "print(s_set)"
      ],
      "metadata": {
        "colab": {
          "base_uri": "https://localhost:8080/"
        },
        "id": "jTxIWjkrXMZx",
        "outputId": "9b2db4de-3eb8-4cb3-cf06-fc9919df7acb"
      },
      "execution_count": null,
      "outputs": [
        {
          "output_type": "stream",
          "name": "stdout",
          "text": [
            "{'charity', 'beauty', 'honesty'}\n"
          ]
        }
      ]
    }
  ]
}